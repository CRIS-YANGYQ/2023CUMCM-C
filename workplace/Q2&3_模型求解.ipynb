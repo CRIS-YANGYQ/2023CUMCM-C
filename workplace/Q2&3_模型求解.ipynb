{
 "cells": [
  {
   "cell_type": "code",
   "execution_count": null,
   "metadata": {
    "collapsed": true
   },
   "outputs": [],
   "source": [
    "import pandas as pd\n",
    "import os\n",
    "import matplotlib.pyplot as plt\n",
    "from datetime import datetime"
   ]
  },
  {
   "cell_type": "code",
   "execution_count": null,
   "outputs": [],
   "source": [
    "info_df = pd.read_excel('./data/info.xlsx')\n",
    "supp_df = pd.read_excel('./data/supply_price.xlsx')\n",
    "supp_df.head(5)"
   ],
   "metadata": {
    "collapsed": false
   }
  },
  {
   "cell_type": "code",
   "execution_count": null,
   "outputs": [],
   "source": [
    "# 创建日期范围\n",
    "start_date = datetime(2023, 6, 24)\n",
    "end_date = datetime(2023, 6, 30)\n",
    "date_range = pd.date_range(start_date, end_date, freq='D')\n",
    "                           # 使用布尔索引筛选数据\n",
    "filtered_df = supp_df[supp_df['日期'].isin(date_range)]\n",
    "filtered_df"
   ],
   "metadata": {
    "collapsed": false
   }
  },
  {
   "cell_type": "code",
   "execution_count": null,
   "outputs": [],
   "source": [
    "available_item_codes = filtered_df.单品编码.unique().tolist()\n",
    "len(available_item_codes)"
   ],
   "metadata": {
    "collapsed": false
   }
  },
  {
   "cell_type": "code",
   "execution_count": null,
   "outputs": [],
   "source": [
    "def grant_kind(id_):\n",
    "    my_dict = info_df.set_index('单品编码')['分类编码'].to_dict()\n",
    "    return my_dict.get(id_, None)\n",
    "\n",
    "def modify_column_and_map(to_modi):\n",
    "    # 使用内置的 Pandas 函数将每个单品编码转换为大类编码\n",
    "    to_modi['大类编码'] = to_modi['单品编码'].map(grant_kind)\n",
    "\n",
    "    return to_modi"
   ],
   "metadata": {
    "collapsed": false
   }
  },
  {
   "cell_type": "code",
   "execution_count": null,
   "outputs": [],
   "source": [
    "import warnings\n",
    "warnings.filterwarnings(\"ignore\")\n",
    "available_df = modify_column_and_map(filtered_df)"
   ],
   "metadata": {
    "collapsed": false
   }
  },
  {
   "cell_type": "code",
   "execution_count": null,
   "outputs": [],
   "source": [
    "available_df.reset_index(drop=True)"
   ],
   "metadata": {
    "collapsed": false
   }
  },
  {
   "cell_type": "code",
   "execution_count": null,
   "outputs": [],
   "source": [
    "sell_df = pd.read_excel('./data/sell.xlsx')\n",
    "loss_df = pd.read_excel('./data/loss.xlsx')"
   ],
   "metadata": {
    "collapsed": false
   }
  },
  {
   "cell_type": "code",
   "execution_count": null,
   "outputs": [],
   "source": [
    "target_list = available_item_codes\n",
    "available_History_sales_info = sell_df[sell_df['单品编码'].isin(target_list)]\n",
    "available_History_sales_info.reset_index(drop=True)\n",
    "available_History_sales_info.head()"
   ],
   "metadata": {
    "collapsed": false
   }
  },
  {
   "cell_type": "code",
   "execution_count": null,
   "outputs": [],
   "source": [
    "# 创建日期范围\n",
    "start_date = datetime(2023, 6, 24)\n",
    "end_date = datetime(2023, 6, 30)\n",
    "date_range = pd.date_range(start_date, end_date, freq='D')\n",
    "                           # 使用布尔索引筛选数据\n",
    "available_Recent_sales_info = available_History_sales_info[available_History_sales_info['销售日期'].isin(date_range)]\n",
    "available_Recent_sales_info.drop(columns= ['扫码销售时间'], inplace= True)\n",
    "available_Recent_sales_info = available_Recent_sales_info[available_Recent_sales_info['销售类型']=='销售']\n",
    "available_Recent_sales_info.drop(columns= ['销售类型'], inplace= True)\n",
    "available_Recent_sales_info['销售额(元)'] = available_Recent_sales_info['销量(千克)']*available_Recent_sales_info['销售单价(元/千克)']\n",
    "available_Recent_sales_info.reset_index(drop= True)"
   ],
   "metadata": {
    "collapsed": false
   }
  },
  {
   "cell_type": "code",
   "execution_count": null,
   "outputs": [],
   "source": [
    "for item_code in available_item_codes:\n",
    "    item_sales_his = available_Recent_sales_info[available_Recent_sales_info['单品编码']==item_code]\n",
    "    item_sales_his.drop(columns= ['销量(千克)','销售单价(元/千克)','是否打折销售'], inplace= True)\n",
    "    item_sales_his.reset_index(drop= True)\n",
    "    item_sales_his = item_sales_his.groupby(['销售日期', '单品编码']).sum()\n",
    "    y_data = item_sales_his['销售额(元)'].tolist()\n",
    "    print(item_sales_his.head(7))\n",
    "    break"
   ],
   "metadata": {
    "collapsed": false
   }
  },
  {
   "cell_type": "code",
   "execution_count": null,
   "outputs": [],
   "source": [
    "from scipy.optimize import minimize, LinearConstraint, Bounds, linprog\n",
    "\n",
    "class RegressionModel:\n",
    "    def __init__(self, wholesale_price_df, sales_fore, avg_price):\n",
    "        self.wholesale_price_df = wholesale_price_df ## 批发价\n",
    "        self.average_price = avg_price ## 平均价格\n",
    "        self.preliminary_pricing = [a*1.1 for a in self.average_price] ## 初步定价\n",
    "        self.sales_forecast = sales_fore ## 预测得到的销量\n",
    "        self.cost_pricing = [] ## 成本加成定价\n",
    "        self.purchase_quantity = [] ## 进货量\n",
    "        self.Optimal_X, self.Max_Profit = [], [] ## 约束条件下的多情况解\n",
    "\n",
    "    def determine_cost_pricing(self):\n",
    "        # 根据销售量预测确定成本加成定价\n",
    "        cost_pricing = self.average_price\n",
    "        thread = 30\n",
    "        for sale in self.sales_forecast:\n",
    "            if sale>thread: ratio = 1.2\n",
    "            elif sale>thread-10:  ratio = 1.3\n",
    "            else: ratio = 1.4\n",
    "            cost_pricing[self.sales_forecast.index(sale)] *= ratio\n",
    "\n",
    "        # 将计算得到的成本加成定价存入 cost_pricing 列表\n",
    "        self.cost_pricing = cost_pricing\n",
    "\n",
    "    def get_purchase_quantity(self):\n",
    "        # 根据销售量预测计算进货量\n",
    "        ratio = 1.1\n",
    "        purchase_quantity = self.sales_forecast\n",
    "        purchase_quantity = [x * ratio for x in purchase_quantity]\n",
    "        self.purchase_quantity = purchase_quantity\n",
    "\n",
    "    def optimize_solution(self):\n",
    "        self.determine_cost_pricing()\n",
    "        # 优化求解函数，计算利润\n",
    "        Max_profit = []\n",
    "        for i in range(7):\n",
    "            pro = (self.cost_pricing[i] * self.sales_forecast[i]) - (self.wholesale_price_df[i] * self.purchase_quantity[i])\n",
    "            Max_profit.append(pro) ## 考虑运损率-->定价：sales_forecast中已考虑了各类的运损率\n",
    "        self.Max_Profit = Max_profit\n",
    "\n",
    "    def best_purchase_quantity(self):\n",
    "        return self.purchase_quantity\n",
    "\n",
    "    def optimize_with_bounds(self, available_products_name):\n",
    "        self.purchase_quantity, self.Max_Profit = [[]], [[]]\n",
    "\n",
    "        def decrease(list, num):\n",
    "            new_list = [x-num if x-num >0 else x for x in list]\n",
    "            return new_list\n",
    "\n",
    "        for n in range(27, 34):\n",
    "            # 目标函数：最大化收益\n",
    "            c = [[y for y in x] for x in self.cost_pricing]  # 将定价取负号，转换为最大化问题\n",
    "            s = self.preliminary_pricing\n",
    "            # 约束条件\n",
    "            A_eq = [[1] * n]  # 可售单品总数的约束\n",
    "            b_eq = [27]  # 最小可售单品总数\n",
    "            A_ub = [[-1] * n]  # 单品补货量的约束\n",
    "            b_ub = [-2.5]  # 最小陈列量约束\n",
    "\n",
    "            # 可售单品总数的上限约束\n",
    "            A_ub.append([1] * n)\n",
    "            b_ub.append(33)\n",
    "\n",
    "            # 陈列量的最大陈列量约束\n",
    "            A_ub.append([1] * n)\n",
    "            b_ub.append(8)  # 最大陈列量 33种单品 共 257.8 千克的总销量封顶(最大峰值单日销售总量) 257.8/33 ~= 7.9\n",
    "            for i in range(n):\n",
    "                A_ub.append([1] * n)\n",
    "                b_ub.append(decrease(s, 7))  # 超过7千克的部分\n",
    "\n",
    "                if s > 10:\n",
    "                    A_ub.append([1] * n)\n",
    "                    b_ub.append(decrease((s, 10)))  # 超过10千克的部分\n",
    "\n",
    "            # 单位利润衰减的约束\n",
    "            for i in range(n):\n",
    "                A_ub.append([0] * n)\n",
    "                b_ub.append((decrease(s, 7)) * 0.5 / s)  # 超过7千克的部分每多一千克，单位利润降低\n",
    "\n",
    "                if s > 10:\n",
    "                    A_ub.append([0] * n)\n",
    "                    b_ub.append(decrease(s, 10) * 0.7)  # 超过10千克的部分，单位利润降低\n",
    "\n",
    "            # 定价的上下限约束\n",
    "            bounds = [(0, self.cost_pricing[i] * 1.6) for i in range(n)]  # 最高价格小于原价格的1.6倍\n",
    "\n",
    "            # 求解线性规划\n",
    "            res = linprog(c, A_ub=A_ub, b_ub=b_ub, A_eq=A_eq, b_eq=b_eq, bounds=bounds)\n",
    "\n",
    "            # 解析结果\n",
    "            replenishment = res.x  # 单品陈列量\n",
    "            pricing = -res.fun  # 定价策略\n",
    "\n",
    "            # 输出结果\n",
    "            for i in range(n):\n",
    "                print(f\"单品{available_products_name[i]}：补货量={replenishment[i]}，定价={pricing[i]}\")\n",
    "\n",
    "        self.Optimal_X = replenishment\n",
    "        df = pd.DataFrame(list(zip(available_products_name, pricing, replenishment)), columns=['单品名称', '单价(元/千克)', '补货量(千克)'])\n",
    "        df.to_excel('7月1日单品进货定价策略.xlsx', index= False)"
   ],
   "metadata": {
    "collapsed": false
   }
  },
  {
   "cell_type": "code",
   "execution_count": null,
   "outputs": [],
   "source": [
    "import os\n",
    "import pandas as pd\n",
    "from datetime import datetime, timedelta\n",
    "pre = './7月预测批发价'\n",
    "kind_pre = './销售量数据/单类/每日'\n",
    "Kind_Name = os.listdir(kind_pre)\n",
    "for i in range(6):\n",
    "    print(Kind_Name[i])"
   ],
   "metadata": {
    "collapsed": false
   }
  },
  {
   "cell_type": "code",
   "execution_count": null,
   "outputs": [],
   "source": [
    "files = os.listdir(pre)\n",
    "result_df = pd.DataFrame()\n",
    "for filename in files:\n",
    "    file_path = os.path.join(pre, filename)\n",
    "    file = pd.read_csv(file_path)\n",
    "    column_name = filename.split('_')[0]\n",
    "    column_prefix = column_name\n",
    "    column_data = file.iloc[:, 0]\n",
    "    result_df[column_name] = column_data\n",
    "result_df.to_csv('./fore.csv', index=False)"
   ],
   "metadata": {
    "collapsed": false
   }
  },
  {
   "cell_type": "code",
   "execution_count": null,
   "outputs": [],
   "source": [
    "pre = './价格-销售重量'\n",
    "files = os.listdir(pre)\n",
    "fore = pd.read_csv('fore.csv') ##批发价预测\n",
    "Kind_Name = []\n",
    "Price_List = []\n",
    "## 根据预测结果获取预计销量\n",
    "for file_name in files:\n",
    "    kind_name = (''.join(file_name.split('.')[0])).split('_')[0]\n",
    "    Kind_Name.append(kind_name)\n",
    "    file_path = os.path.join(pre, file_name)\n",
    "    file = pd.read_csv(file_path)\n",
    "    kind_df = pd.DataFrame(file)\n",
    "    kind_fore_sales = fore[kind_name].tolist() ##销量预计： fore\n",
    "    cost_price = []\n",
    "    min_price = []\n",
    "    for sale in kind_fore_sales:\n",
    "        base = kind_df['销售重量（kg）'].median()\n",
    "        max_ = kind_df['销售重量（kg）'].max()\n",
    "        min_ = kind_df['销售重量（kg）'].min()\n",
    "        new_df = pd.DataFrame()\n",
    "        if base == 0:\n",
    "            new_df = kind_df[['价格（元）']]\n",
    "        else:\n",
    "            new_df = kind_df[(kind_df['销售重量（kg）'] > 0.1*sale)][['价格（元）']]\n",
    "\n",
    "        avg_cost = new_df['价格（元）'].mean() ## 区间批发价均值\n",
    "        min_cost = new_df['价格（元）'].min() ## 区间批发价格最小值\n",
    "        i = 1.001\n",
    "        while avg_cost==0 or min_cost==0:\n",
    "            new_df = kind_df[(kind_df['销售重量（kg）'] < sale*i) & (kind_df['销售重量（kg）'] > sale*(1/i))]['价格（元）']\n",
    "            i *= 1.005\n",
    "            avg_cost = new_df['价格（元）'].mean()\n",
    "            min_cost = new_df['价格（元）'].min()\n",
    "        cost_price.append(avg_cost)\n",
    "        min_price.append(min_cost)\n",
    "\n",
    "    # 设定输入数据\n",
    "    model = RegressionModel(wholesale_price_df=min_price, sales_fore=kind_fore_sales, avg_price=cost_price)\n",
    "\n",
    "    # 调用模型内部函数\n",
    "    model.determine_cost_pricing()\n",
    "    model.get_purchase_quantity()\n",
    "\n",
    "    # 调用优化求解函数\n",
    "    model.optimize_solution()\n",
    "\n",
    "    # 输出利润\n",
    "    # print(f\"7月1日-7日{kind_name} 每天日总收益(元): \", model.Max_Profit)\n",
    "    # print(f\"7月1日-7日{kind_name} 每天进货量(千克): \", model.purchase_quantity)\n",
    "    # print(f\"7月1日-7日{kind_name} 每天定价(元)\", model.cost_pricing)\n",
    "    start_date = datetime(2023, 7, 1)\n",
    "    date_range = [start_date + timedelta(days=i) for i in range(7)]\n",
    "    result_df = pd.DataFrame({'日期': date_range,\n",
    "                   '进货量(千克)': model.purchase_quantity ,\n",
    "                   '成本加成定价(元/千克)': model.cost_pricing,\n",
    "                   '预计总收益(元)': model.Max_Profit})\n",
    "    name = f'./Q2_result/{kind_name}_23年7月1日至7日预计.xlsx'\n",
    "    result_df.to_excel(name, index= False)"
   ],
   "metadata": {
    "collapsed": false
   }
  },
  {
   "cell_type": "code",
   "execution_count": null,
   "outputs": [],
   "source": [
    "# Merge the datasets on \"单品编码\"\n",
    "merged_data = pd.merge(sell_df, info_df, on=\"单品编码\", how=\"left\")\n",
    "# Display the first few rows of the merged dataset\n",
    "merged_data.head(5)"
   ],
   "metadata": {
    "collapsed": false
   }
  },
  {
   "cell_type": "code",
   "execution_count": null,
   "outputs": [],
   "source": [
    "# 按品类和商品分类销售量\n",
    "category_sales = merged_data.groupby('分类名称')['销量(千克)'].sum().sort_values(ascending=False)\n",
    "product_sales = merged_data.groupby('单品名称')['销量(千克)'].sum().sort_values(ascending=False)"
   ],
   "metadata": {
    "collapsed": false
   }
  },
  {
   "cell_type": "code",
   "execution_count": null,
   "outputs": [],
   "source": [
    "merged_data = merged_data[merged_data['销售类型']=='销售']\n",
    "merged_data.drop(columns=['是否打折销售', '销售类型'], inplace= True)\n",
    "merged_data['销售额(元)'] = merged_data['销量(千克)']*merged_data['销售单价(元/千克)']\n",
    "merged_data.sort_values(by='销售额(元)', inplace= True, ascending=False)\n",
    "merged_data.reset_index(drop=True)"
   ],
   "metadata": {
    "collapsed": false
   }
  },
  {
   "cell_type": "code",
   "execution_count": null,
   "outputs": [],
   "source": [
    "mask = ((pd.to_datetime('2023-05-30') > merged_data['销售日期']) & (merged_data['销售日期'] > pd.to_datetime('2023-02-28'))) | \\\n",
    "       ((pd.to_datetime('2022-05-30') > merged_data['销售日期']) & (merged_data['销售日期'] > pd.to_datetime('2022-02-28'))) | \\\n",
    "       ((pd.to_datetime('2021-05-30') > merged_data['销售日期']) & (merged_data['销售日期'] > pd.to_datetime('2021-02-28')))\n",
    "\n",
    "mean_sales_df = merged_data[mask].groupby('单品名称')[['销量(千克)']].max().reset_index()\n",
    "\n",
    "forecasted_df = mean_sales_df.copy()\n",
    "forecasted_df = pd.DataFrame(forecasted_df)\n",
    "forecasted_df.columns = ['预测销量_7月1日' if col == '销量(千克)' else col for col in forecasted_df.columns]\n",
    "forecasted_df.head(33)\n",
    "SUM = forecasted_df.预测销量_7月1日.sum()\n",
    "print(SUM) ## 257.865，说明一天最大支持的能够同时售出的总质量在257，反馈用于模型建立中陈列量upper_bound"
   ],
   "metadata": {
    "collapsed": false
   }
  },
  {
   "cell_type": "code",
   "execution_count": null,
   "outputs": [],
   "source": [
    "pricing_data = pd.merge(supp_df, info_df, on=\"单品编码\", how=\"left\")\n",
    "avg_wholesale_price = pricing_data.groupby('分类名称')['批发价格(元/千克)'].mean()"
   ],
   "metadata": {
    "collapsed": false
   }
  },
  {
   "cell_type": "code",
   "execution_count": null,
   "outputs": [],
   "source": [
    "product_cost_data = pd.merge(forecasted_df, pricing_data, on=\"单品名称\", how=\"left\")\n",
    "product_cost_data = pd.merge(product_cost_data, loss_df, left_on='分类名称', right_on='小分类名称', how=\"left\")\n",
    "\n",
    "# Calculate the cost per kg considering the loss rate\n",
    "product_cost_data['单位批发价'] = product_cost_data['批发价格(元/千克)'] * (1 + product_cost_data['平均损耗率(%)_小分类编码_不同值'] / 100)\n",
    "\n",
    "product_cost_data[['单品名称', '预测销量_7月1日', '批发价格(元/千克)', '平均损耗率(%)_小分类编码_不同值', '单位批发价']].head()\n",
    "\n",
    "def determine_product_markup_rate(sales_forecast):\n",
    "    if sales_forecast < 10 :\n",
    "        return 1.3\n",
    "    elif sales_forecast < 20:\n",
    "        return 1.2\n",
    "    else: return 1.1\n",
    "\n",
    "# Calculate the expected profit for each product\n",
    "product_cost_data['markup_rate'] = product_cost_data['预测销量_7月1日'].apply(determine_product_markup_rate)\n",
    "product_cost_data['单价(元/千克)'] = product_cost_data['单位批发价'] * product_cost_data['markup_rate']\n",
    "product_cost_data['expected_profit_per_kg'] = product_cost_data['单价(元/千克)'] - product_cost_data['单位批发价']\n",
    "product_cost_data['预计总收益(元)'] = product_cost_data['expected_profit_per_kg'] * product_cost_data['预测销量_7月1日']\n",
    "\n",
    "# Sort the products based on the expected profit\n",
    "sorted_products = product_cost_data.sort_values(by='预计总收益(元)', ascending=False).drop_duplicates(subset='单品名称')\n",
    "\n",
    "sorted_products[['单品名称', '预测销量_7月1日', '单位批发价', '单价(元/千克)', '预计总收益(元)']].head(33)"
   ],
   "metadata": {
    "collapsed": false
   }
  }
 ],
 "metadata": {
  "kernelspec": {
   "display_name": "Python 3",
   "language": "python",
   "name": "python3"
  },
  "language_info": {
   "codemirror_mode": {
    "name": "ipython",
    "version": 2
   },
   "file_extension": ".py",
   "mimetype": "text/x-python",
   "name": "python",
   "nbconvert_exporter": "python",
   "pygments_lexer": "ipython2",
   "version": "2.7.6"
  }
 },
 "nbformat": 4,
 "nbformat_minor": 0
}
