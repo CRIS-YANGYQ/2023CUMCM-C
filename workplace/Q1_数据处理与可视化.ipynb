{
 "cells": [
  {
   "cell_type": "markdown",
   "source": [
    "蔬菜类商品不同品类或不同单品之间可能存在一定的关联关系，请分析蔬菜各\n",
    "品类及单品销售量的分布规律及相互关系。"
   ],
   "metadata": {
    "collapsed": false
   }
  },
  {
   "cell_type": "markdown",
   "source": [
    "读取数据"
   ],
   "metadata": {
    "collapsed": false
   }
  },
  {
   "cell_type": "code",
   "execution_count": null,
   "outputs": [],
   "source": [
    "class DataProcess:\n",
    "    def __init__(self):\n",
    "        self.all_info_df  = [] ## 商品信息\n",
    "        self.all_sell_df = [] ## 销售记录\n",
    "        self.all_supply_df = [] ## 批发记录\n",
    "        self.all_loss_df = [] ## 各类商品的损耗率\n",
    "        self.drop_refund = pd.DataFrame\n",
    "        self.daily_sales_total = pd.DataFrame ## 每日单品销售量总计\n",
    "        self.monthly_sales_total = pd.DataFrame ## 每日单品销售量总计\n",
    "\n",
    "\n",
    "    def read_data(self):\n",
    "        ## 读取数据\n",
    "        self.all_info_df  = pd.read_excel('.\\data\\info.xlsx') ## 商品信息\n",
    "        self.all_sell_df = pd.read_excel('.\\data\\sell.xlsx') ## 销售记录\n",
    "        self.all_supply_df = pd.read_excel('.\\data\\supply_price.xlsx') ## 批发记录\n",
    "        self.all_loss_df = pd.read_excel('.\\data\\loss.xlsx') ## 各类商品的损耗率\n",
    "\n",
    "    def drop_refund_func(self):\n",
    "        df = self.all_sell_df\n",
    "        filtered_df = df[df['销售类型']=='退货']\n",
    "        result_df = df.drop(filtered_df.index, inplace=True)\n",
    "        self.drop_refund = result_df\n",
    "\n",
    "    def grant_daily_sales(self): ## 计算每个单品每日销售总量\n",
    "        data = self.all_sell_df\n",
    "        # 将日期和销量列转换为合适的数据类型\n",
    "        data['销售日期'] = pd.to_datetime(data['销售日期'])\n",
    "        data['销量(千克)'] = pd.to_numeric(data['销量(千克)'])\n",
    "\n",
    "        # 分组并计算每一天的销量总额\n",
    "        daily_sales_total = data.groupby(['单品编码', pd.Grouper(key='销售日期', freq='D')])['销量(千克)'].sum()\n",
    "        self.daily_sales_total = daily_sales_total.to_frame().reset_index()\n",
    "\n",
    "    def grant_monthly_sales(self): ## 计算每个单品每月销售总量\n",
    "        data = self.all_sell_df\n",
    "\n",
    "        # 将日期和销量列转换为合适的数据类型\n",
    "        data['销售日期'] = pd.to_datetime(data['销售日期'])\n",
    "        data['销量(千克)'] = pd.to_numeric(data['销量(千克)'])\n",
    "        # 提取年月\n",
    "        data['月份'] = data['销售日期'].dt.month\n",
    "        data['年份'] = data['销售日期'].dt.year\n",
    "\n",
    "        # 按单品编码和月份汇总销售量\n",
    "        monthly_sales = data.groupby(['单品编码', '月份', '年份'])['销量(千克)'].sum()\n",
    "        # 分组并计算每一天的销量总额\n",
    "        self.monthly_sales_total = monthly_sales.to_frame().reset_index()\n",
    "\n",
    "Main = DataProcess()\n",
    "Main.read_data()"
   ],
   "metadata": {
    "collapsed": false
   }
  },
  {
   "cell_type": "code",
   "execution_count": null,
   "outputs": [],
   "source": [
    "Main.drop_refund_func() ## 统计观测时, 退货记录舍去\n",
    "Main.grant_daily_sales()\n",
    "Main.grant_monthly_sales()"
   ],
   "metadata": {
    "collapsed": false
   }
  },
  {
   "cell_type": "code",
   "execution_count": null,
   "outputs": [],
   "source": [
    "Main.daily_sales_total.to_csv('每日单品销售总量.csv', index = False)\n",
    "Main.monthly_sales_total.to_csv('每月单品销售总量.csv', index = False)"
   ],
   "metadata": {
    "collapsed": false
   }
  },
  {
   "cell_type": "markdown",
   "source": [
    "定义单品、种类之间的映射函数"
   ],
   "metadata": {
    "collapsed": false
   }
  },
  {
   "cell_type": "code",
   "execution_count": null,
   "outputs": [],
   "source": [
    "def grant_one_kind_sales(id_, sell_df):\n",
    "    ans = sell_df[sell_df['单品编码']==id_]\n",
    "    return ans\n",
    "\n",
    "def grant_single_name(id_, info_df):\n",
    "    ans = info_df[info_df['单品编码']==id_]['单品名称'].tolist()\n",
    "    return ans[0]\n",
    "\n",
    "def grant_kind(id_, info_df):\n",
    "    my = info_df[['单品编码','分类编码']]\n",
    "    ans = my[my['单品编码']==id_]['分类编码'].tolist()\n",
    "    return ans[0]\n",
    "\n",
    "def grant_kind_name(id_, info_df):\n",
    "    my = info_df[['单品编码','分类名称']]\n",
    "    ans = my[my['单品编码']==id_]['分类名称'].tolist()\n",
    "    return ans[0]\n",
    "\n",
    "def grant_all_kind_name(info_df):\n",
    "    my = info_df['分类名称'].unique()\n",
    "    ans = my.tolist()\n",
    "    return ans"
   ],
   "metadata": {
    "collapsed": false
   }
  },
  {
   "cell_type": "code",
   "execution_count": null,
   "outputs": [],
   "source": [
    "def create_dir(p):\n",
    "    if not os.path.exists(p):\n",
    "        os.makedirs(p)\n",
    "create_dir('.\\sales_daily')\n",
    "create_dir('.\\sales_monthly')\n",
    "create_dir('.\\describe')\n",
    "create_dir('.\\describe\\daily')\n",
    "create_dir('.\\describe\\monthly')"
   ],
   "metadata": {
    "collapsed": false
   }
  },
  {
   "cell_type": "markdown",
   "source": [
    "单品每日销量绘图"
   ],
   "metadata": {
    "collapsed": false
   }
  },
  {
   "cell_type": "code",
   "execution_count": null,
   "outputs": [],
   "source": [
    "def plot_daily_sales_single(name, kind_name, df, Type='D'):\n",
    "    df['销售日期'] = pd.to_datetime(df['销售日期'])\n",
    "    # 按单品编码和销售日期分组，并计算销售总额\n",
    "    daily_sales_total = df.groupby(['单品编码', pd.Grouper(key='销售日期', freq=Type)])['销量(千克)'].sum()\n",
    "\n",
    "    # 重置索引，将多级索引转换为列\n",
    "    daily_sales_total = daily_sales_total.reset_index()\n",
    "\n",
    "    # 按年份绘制散点图\n",
    "    for i, year in enumerate([2020, 2021, 2022, 2023]):\n",
    "        # 筛选指定年份的数据\n",
    "        year_data = daily_sales_total[daily_sales_total['销售日期'].dt.year == year]\n",
    "        plt.figure()\n",
    "\n",
    "        for j in range(1,13):\n",
    "            y_data = year_data[year_data['销售日期'].dt.month == j]\n",
    "            y_data['销售日期'] = y_data['销售日期'].dt.strftime('%m-%d')\n",
    "            plt.plot(y_data['销售日期'], y_data['销量(千克)'], c='r', marker = '.')\n",
    "\n",
    "        x = year_data['销售日期'].dt.strftime('%m-%d').to_list()\n",
    "        if x:\n",
    "            plt.xticks([x[0], x[-1]])\n",
    "        plt.title(f'Plot {year}')\n",
    "        plt.xlabel('Date')\n",
    "        plt.ylabel('Sales/Kg')\n",
    "        plt.grid(True, linestyle = '--', alpha = 0.5)\n",
    "        ## 单品每日\n",
    "        create_dir(f'./销售折线图/单类/每日/{kind_name}')\n",
    "        path_here = './销售折线图/单类/每日/' + kind_name + f'/{name}/单品每日销售曲线{year}.png'\n",
    "        plt.savefig(path_here)  # 保存图片\n",
    "        plt.close()\n",
    "\n",
    "def plot_all_sales_single(df):\n",
    "    all_kind_id = Main.all_info_df['单品编码'].to_list()\n",
    "    for name in grant_all_kind_name(Main.all_info_df):\n",
    "        # 构造子文件夹路径和文件路径\n",
    "        create_dir(f'./销售折线图/单类/每日/{name}/')\n",
    "\n",
    "    for id_ in all_kind_id:\n",
    "        single_ = grant_single_name(id_, Main.all_info_df)\n",
    "        if single_ == '西峡香菇(份) ':\n",
    "            single_ = '西峡香菇(份)'\n",
    "        name = grant_kind_name(id_, Main.all_info_df)\n",
    "        folder_path = os.path.join('./销售折线图/单类/每日/', name)\n",
    "        path = os.path.join(folder_path, single_)\n",
    "        if not os.path.exists(path):\n",
    "            os.makedirs(path)\n",
    "\n",
    "        tmp_df = df[df['单品编码']==id_]\n",
    "        create_dir(f'./销售量数据/单类/每日/{name}')\n",
    "        pth_csv = os.path.join(f'./销售量数据/单类/每日/{name}/', f'每日销售量_{single_}.csv' )\n",
    "        tmp_df.to_csv(pth_csv, index=False)\n",
    "        kind_ = grant_kind_name(id_, Main.all_info_df)\n",
    "        print(f'here!!! id: {id_}, {single_}, {kind_}')\n",
    "        plot_daily_sales_single(single_, kind_, tmp_df)"
   ],
   "metadata": {
    "collapsed": false
   }
  },
  {
   "cell_type": "code",
   "execution_count": null,
   "outputs": [],
   "source": [
    "import warnings\n",
    "warnings.filterwarnings(\"ignore\")\n",
    "\n",
    "plot_all_sales_single(Main.daily_sales_total)"
   ],
   "metadata": {
    "collapsed": false,
    "pycharm": {
     "is_executing": true
    }
   }
  },
  {
   "cell_type": "markdown",
   "source": [
    "单品每月销量绘图"
   ],
   "metadata": {
    "collapsed": false
   }
  },
  {
   "cell_type": "code",
   "execution_count": null,
   "outputs": [],
   "source": [
    "def plot_monthly_sales_single(name, kind_name, df_here):\n",
    "    daily_sales_total = df_here\n",
    "    # 按年份绘制散点图\n",
    "    for i, year in enumerate([2020, 2021, 2022, 2023]):\n",
    "        # 筛选指定年份的数据\n",
    "        year_data = daily_sales_total[daily_sales_total['年份'] == year]\n",
    "        plt.figure()\n",
    "\n",
    "        for j in range(1,13):\n",
    "            y_data = year_data[year_data['月份'] == j]\n",
    "            plt.plot(y_data['月份'], y_data['销量(千克)'], 'bo-')\n",
    "\n",
    "        x = year_data['月份'].to_list()\n",
    "        if x:\n",
    "            plt.xticks([x[0], x[-1]])\n",
    "        plt.title(f'Plot {year}')\n",
    "        plt.xlabel('Month')\n",
    "        plt.ylabel('Sales/Kg')\n",
    "        plt.grid(True, linestyle = '--', alpha = 0.5)\n",
    "        ## 单品每日\n",
    "        create_dir(f'./销售折线图/单类/每月/{kind_name}')\n",
    "        path_Here = './销售折线图/单类/每月/' + kind_name + f'/{name}/单品每月销售曲线{year}.png'\n",
    "        plt.savefig(path_Here)  # 保存图片\n",
    "        plt.close()\n",
    "\n",
    "def plot_all_sales_single_monthly(df_temp):\n",
    "    all_kind_id = Main.all_info_df['单品编码'].to_list()\n",
    "    for name in grant_all_kind_name(Main.all_info_df):\n",
    "        # 构造子文件夹路径和文件路径\n",
    "        create_dir(f'./销售折线图/单类/每月/{name}/')\n",
    "\n",
    "    for id_ in all_kind_id:\n",
    "        single_ = grant_single_name(id_, Main.all_info_df)\n",
    "        if single_ == '西峡香菇(份) ':\n",
    "            single_ = '西峡香菇(份)'\n",
    "        name = grant_kind_name(id_, Main.all_info_df)\n",
    "        folder_path = os.path.join('./销售折线图/单类/每月/', name)\n",
    "        path = os.path.join(folder_path, single_)\n",
    "        if not os.path.exists(path):\n",
    "            os.makedirs(path)\n",
    "\n",
    "        tmp_df = df_temp[df_temp['单品编码'] == id_]\n",
    "        create_dir(f'./销售量数据/单类/每月/{name}')\n",
    "        pth_csv = os.path.join(f'./销售量数据/单类/每月/{name}/', f'每月销售量_{single_}.csv' )\n",
    "        kind_ = grant_kind_name(id_, Main.all_info_df)\n",
    "        tmp_df.to_csv(pth_csv, index=False)\n",
    "        print(f'here!!! id: {id_}, {single_}, {kind_}')\n",
    "        plot_monthly_sales_single(single_, kind_, tmp_df)"
   ],
   "metadata": {
    "collapsed": false
   }
  },
  {
   "cell_type": "code",
   "execution_count": null,
   "outputs": [],
   "source": [
    "import warnings\n",
    "warnings.filterwarnings(\"ignore\")\n",
    "\n",
    "plot_all_sales_single_monthly(Main.monthly_sales_total)"
   ],
   "metadata": {
    "collapsed": false
   }
  },
  {
   "cell_type": "markdown",
   "source": [
    "大类日销量绘图"
   ],
   "metadata": {
    "collapsed": false
   }
  },
  {
   "cell_type": "code",
   "execution_count": null,
   "outputs": [],
   "source": [
    "def calculate_daily_sales_by_category():\n",
    "    info_df = Main.all_info_df\n",
    "    df_here = Main.daily_sales_total\n",
    "\n",
    "    # 将销售日期列转换为日期类型\n",
    "    df_here['销售日期'] = pd.to_datetime(df_here['销售日期'])\n",
    "\n",
    "    # 按单品编码和销售日期分组，并计算每天的总销量\n",
    "    daily_sales = df_here.groupby(['单品编码', pd.Grouper(key='销售日期', freq='D')])['销量(千克)'].sum().reset_index()\n",
    "\n",
    "    # 添加大类编码列\n",
    "    daily_sales['大类编码'] = daily_sales['单品编码'].apply(lambda x: grant_kind(x, info_df))\n",
    "\n",
    "    # 按大类编码和日期分组，并计算每天的大类总销量\n",
    "    daily_sales_total = daily_sales.groupby(['大类编码', pd.Grouper(key='销售日期', freq='D')])['销量(千克)'].sum().reset_index()\n",
    "\n",
    "    # 填充缺失值为0\n",
    "    daily_sales_total['销量(千克)'] = daily_sales_total['销量(千克)'].fillna(0)\n",
    "\n",
    "    return daily_sales_total\n",
    "\n",
    "import warnings\n",
    "warnings.filterwarnings(\"ignore\")\n",
    "kind_grouped = calculate_daily_sales_by_category()"
   ],
   "metadata": {
    "collapsed": false
   }
  },
  {
   "cell_type": "code",
   "execution_count": null,
   "outputs": [],
   "source": [
    "def plot_daily_sales_kind(kind_name, df_s):\n",
    "    df_s['销售日期'] = pd.to_datetime(df_s['销售日期'])\n",
    "    daily_sales_total = df_s\n",
    "\n",
    "    # 按年份绘制散点图\n",
    "    for i, year in enumerate([2020, 2021, 2022, 2023]):\n",
    "        # 筛选指定年份的数据\n",
    "        year_data = daily_sales_total[daily_sales_total['销售日期'].dt.year == year]\n",
    "        plt.figure()\n",
    "\n",
    "        for j in range(1,13):\n",
    "            y_data = year_data[year_data['销售日期'].dt.month == j]\n",
    "            y_data['销售日期'] = y_data['销售日期'].dt.strftime('%m-%d')\n",
    "            plt.plot(y_data['销售日期'], y_data['销量(千克)'], c='r', marker = '.')\n",
    "\n",
    "        x = year_data['销售日期'].dt.strftime('%m-%d').to_list()\n",
    "        if x:\n",
    "            plt.xticks([x[0], x[-1]])\n",
    "        plt.title(f'Plot {year}')\n",
    "        plt.xlabel('Date')\n",
    "        plt.ylabel('Sales/Kg')\n",
    "        plt.grid(True, linestyle = '--', alpha = 0.5)\n",
    "        create_dir(f'./销售折线图/品类/每日/{kind_name}')\n",
    "        path = './销售折线图/品类/每日/' + kind_name + f'/{kind_name}_{year}_sales_curve.png'\n",
    "        plt.savefig(path)  # 保存图片\n",
    "        plt.close()"
   ],
   "metadata": {
    "collapsed": false
   }
  },
  {
   "cell_type": "code",
   "execution_count": null,
   "outputs": [],
   "source": [
    "def grant_kinds_name(kind_id, info_df):\n",
    "    ans = info_df[info_df['分类编码']==kind_id]['分类名称'].tolist()\n",
    "    return ans[0]"
   ],
   "metadata": {
    "collapsed": false
   }
  },
  {
   "cell_type": "code",
   "execution_count": null,
   "outputs": [],
   "source": [
    "import os\n",
    "def plot_all_sales_kind(Df):\n",
    "    all_kinds_id = Main.all_info_df['分类编码'].to_list()\n",
    "    for id_ in all_kinds_id:\n",
    "        name = grant_kinds_name(id_, Main.all_info_df)\n",
    "        create_dir(f'./销售量数据/品类/每日/')\n",
    "        tmp_df = Df[Df['大类编码'] == id_]\n",
    "        pth_csv = os.path.join('./销售量数据/品类/每日/', f'{name}日总销量.csv')\n",
    "        tmp_df.to_csv(pth_csv, index=False)\n",
    "        kind_ = name\n",
    "        plot_daily_sales_kind(kind_, tmp_df)"
   ],
   "metadata": {
    "collapsed": false
   }
  },
  {
   "cell_type": "code",
   "execution_count": null,
   "outputs": [],
   "source": [
    "plot_all_sales_kind(kind_grouped)"
   ],
   "metadata": {
    "collapsed": false
   }
  },
  {
   "cell_type": "markdown",
   "source": [
    "大类月销量绘图"
   ],
   "metadata": {
    "collapsed": false
   }
  },
  {
   "cell_type": "code",
   "execution_count": null,
   "outputs": [],
   "source": [
    "def calculate_monthly_sales_by_category():\n",
    "    info_df = Main.all_info_df\n",
    "    df_here = Main.monthly_sales_total\n",
    "\n",
    "    # 添加大类编码列\n",
    "    df_here['大类编码'] = df_here['单品编码'].apply(lambda x: grant_kind(x, info_df))\n",
    "    # 合并年份和月份为年月列\n",
    "    df_here['年月'] = pd.to_datetime(df_here['年份'].astype(str) + '-' + df_here['月份'].astype(str), format='%Y-%m')\n",
    "    # 按大类编码和日期分组，并计算每天的大类总销量\n",
    "    daily_sales_total = df_here.groupby(['大类编码', pd.Grouper(key='年月')])['销量(千克)'].sum().reset_index()\n",
    "\n",
    "    # 填充缺失值为0\n",
    "    daily_sales_total['销量(千克)'] = daily_sales_total['销量(千克)'].fillna(0)\n",
    "\n",
    "    return daily_sales_total\n",
    "\n",
    "import warnings\n",
    "warnings.filterwarnings(\"ignore\")\n",
    "kind_grouped = calculate_monthly_sales_by_category()"
   ],
   "metadata": {
    "collapsed": false
   }
  },
  {
   "cell_type": "code",
   "execution_count": null,
   "outputs": [],
   "source": [
    "def plot_monthly_sales_kind(kind_name, df_s):\n",
    "    daily_sales_total = df_s\n",
    "    # 按年份绘制散点图\n",
    "    for i, year in enumerate([2020, 2021, 2022, 2023]):\n",
    "        # 筛选指定年份的数据\n",
    "        year_data = daily_sales_total[daily_sales_total['年月'].dt.year == year]\n",
    "        plt.figure()\n",
    "\n",
    "        for j in range(1,13):\n",
    "            y_data = year_data[year_data['年月'].dt.month == j]\n",
    "            # y_data['年月'] = y_data['年月'].dt.strftime('%m')\n",
    "            plt.plot(y_data['年月'], y_data['销量(千克)'], marker = '.', linestyle = '-', markersize = 16)\n",
    "        # x = year_data['年月'].dt.strftime('%m').to_list()\n",
    "        # if x:\n",
    "        #     plt.xticks([x[0], x[-1]])\n",
    "        plt.title(f'Plot {year}')\n",
    "        plt.xlabel('Month')\n",
    "        plt.ylabel('Sales/Kg')\n",
    "        plt.grid(True, linestyle = '--', alpha = 0.5)\n",
    "        create_dir(f'./销售折线图/品类/每月/{kind_name}/')\n",
    "        path = './销售折线图/品类/每月/' + kind_name + f'/{kind_name}_{year}_sales_curve.png'\n",
    "        plt.savefig(path)  # 保存图片\n",
    "        plt.close()\n",
    "\n",
    "def plot_all_sales_kind_monthly(Df):\n",
    "    all_kinds_id = Main.all_info_df['分类编码'].to_list()\n",
    "    for id_ in all_kinds_id:\n",
    "        name = grant_kinds_name(id_, Main.all_info_df)\n",
    "        tmp_df = Df[Df['大类编码'] == id_]\n",
    "        pth_csv = os.path.join('./销售量数据/品类/每月/', f'{name}月总销量.csv')\n",
    "        tmp_df.to_csv(pth_csv, index=False)\n",
    "        kind_ = name\n",
    "        plot_monthly_sales_kind(kind_, tmp_df)"
   ],
   "metadata": {
    "collapsed": false
   }
  },
  {
   "cell_type": "code",
   "execution_count": null,
   "outputs": [],
   "source": [
    "plot_all_sales_kind_monthly(kind_grouped)"
   ],
   "metadata": {
    "collapsed": false
   }
  },
  {
   "cell_type": "markdown",
   "source": [
    "单品日销量数据指标"
   ],
   "metadata": {
    "collapsed": false
   }
  },
  {
   "cell_type": "code",
   "execution_count": null,
   "outputs": [],
   "source": [
    "Kinds = ['花菜类','花叶类','辣椒类','茄类','食用菌','水生根茎类']\n",
    "pre = './sales_daily/'\n",
    "Describe = []\n",
    "def grant_description_for_kind():\n",
    "    for kind in Kinds:\n",
    "        folds = os.path.join(pre + kind)\n",
    "        files = kind + '日总销量.csv'\n",
    "        paths = os.path.join(folds, files)\n",
    "        dfs = pd.read_csv(paths)\n",
    "        Describe.append(dfs)\n",
    "\n",
    "    # 将类别和描述统计信息添加到DataFrame中\n",
    "    for i in range(6):\n",
    "        kind = Kinds[i]\n",
    "        describe = Describe[i].describe()\n",
    "        dfs = pd.DataFrame(describe).reset_index()\n",
    "        # 将DataFrame保存为CSV文件\n",
    "        dfs.to_csv(f'./describe/daily/{kind}日销量描述统计信息.csv', index = False)\n",
    "        print(f'{kind}:\\n {dfs}')\n",
    "\n",
    "## 每个大类的描述性文本展示与保存\n",
    "grant_description_for_kind()"
   ],
   "metadata": {
    "collapsed": false
   }
  },
  {
   "cell_type": "markdown",
   "source": [
    "每月单品销量数据指标"
   ],
   "metadata": {
    "collapsed": false
   }
  },
  {
   "cell_type": "code",
   "execution_count": null,
   "outputs": [],
   "source": [
    "Kinds = ['花菜类','花叶类','辣椒类','茄类','食用菌','水生根茎类']\n",
    "pre = './sales_monthly/'\n",
    "Describe = []\n",
    "def grant_description_for_kind():\n",
    "    for kind in Kinds:\n",
    "        folds = os.path.join(pre + kind)\n",
    "        files = kind + '月总销量.csv'\n",
    "        paths = os.path.join(folds, files)\n",
    "        dfs = pd.read_csv(paths)\n",
    "        Describe.append(dfs)\n",
    "\n",
    "    # 将类别和描述统计信息添加到DataFrame中\n",
    "    for i in range(6):\n",
    "        kind = Kinds[i]\n",
    "        describe = Describe[i].describe()\n",
    "        dfs = pd.DataFrame(describe).reset_index()\n",
    "        # 将DataFrame保存为CSV文件\n",
    "        dfs.to_csv(f'./describe/monthly/{kind}月销量述统计信息.csv', index = False)\n",
    "        print(f'{kind}:\\n {dfs}')\n",
    "\n",
    "## 每个大类的描述性文本展示与保存\n",
    "grant_description_for_kind()"
   ],
   "metadata": {
    "collapsed": false
   }
  },
  {
   "cell_type": "markdown",
   "source": [
    "绘制频次直方图"
   ],
   "metadata": {
    "collapsed": false
   }
  },
  {
   "cell_type": "code",
   "execution_count": null,
   "outputs": [],
   "source": [
    "from datetime import timedelta, datetime\n",
    "\n",
    "def convert(DF, win_size = 2, lap = 2):\n",
    "    if '销售日期' in DF.columns:\n",
    "        # 将销售日期转换为日期类型\n",
    "        DF['销售日期'] = pd.to_datetime(DF['销售日期'])\n",
    "\n",
    "    else:\n",
    "        DF['销售日期'] = pd.to_datetime(DF['年月'])\n",
    "    # 提取年份\n",
    "    DF['年份'] = DF['销售日期'].dt.year\n",
    "    # 根据年份分组并提取日期列表\n",
    "    date_lists = []\n",
    "    for year in range(2020, 2024):\n",
    "        year_data = DF[DF['年份'] == year]\n",
    "        dates = year_data['销售日期'].tolist()\n",
    "        date_lists.append(dates)\n",
    "    # # 输出每年的日期列表\n",
    "    # for year, dates in zip(range(2020, 2024), date_lists):\n",
    "    #     print(f'{year}: {dates}')\n",
    "\n",
    "    # 修改列表中的数\n",
    "    def modify_list(numbers, W_S, Lap):\n",
    "        modified_x, modified_y = [], []\n",
    "        i = 0\n",
    "        while i < len(numbers) - W_S + 1:\n",
    "            window = numbers[i: i + W_S]\n",
    "            w = window[0]\n",
    "            w = str(w)\n",
    "            w = pd.to_datetime(w)\n",
    "            modified_x.append(w)\n",
    "            condition = (DF['销售日期']>= w) & (DF['销售日期'] < (w + timedelta(days=Lap)))\n",
    "            y = DF[condition]\n",
    "            y = y['销量(千克)'].tolist()\n",
    "            modified_y.append(sum(y))\n",
    "            i += Lap\n",
    "        return modified_x, modified_y\n",
    "    Mo_x, Mo_y = [], []\n",
    "    for dates in date_lists:\n",
    "        A, B = modify_list(dates, win_size, lap)\n",
    "        Mo_x.append(A)\n",
    "        Mo_y.append(B)\n",
    "    return Mo_x, Mo_y"
   ],
   "metadata": {
    "collapsed": false
   }
  },
  {
   "cell_type": "code",
   "execution_count": null,
   "outputs": [],
   "source": [
    "import pandas as pd\n",
    "Kinds = ['花菜类','花叶类','辣椒类','茄类','食用菌','水生根茎类']\n",
    "pre = './sales_daily/'"
   ],
   "metadata": {
    "collapsed": false
   }
  },
  {
   "cell_type": "code",
   "execution_count": null,
   "outputs": [],
   "source": [
    "import seaborn as sns\n",
    "import matplotlib.pyplot as plt\n",
    "def myPlot(b, path, kind, name):\n",
    "    for i in range(0, 4): ##从2020年到2023年一共4年里\n",
    "        y = b[i]\n",
    "        # x = [a*10 for a in range(2, len(y)+1)]\n",
    "        sns.distplot(y, bins=12, hist=True, kde=True, rug=False)\n",
    "        plt.ylabel('Freq')\n",
    "        plt.grid(True, linestyle = '--', alpha = 0.5)\n",
    "        # 添加密度曲线的图例\n",
    "        plt.legend(['Density'])\n",
    "        year = 2020+i\n",
    "        plt.title(f'Fre-Histogram: Year:{year}, win: 4  lap: 2')\n",
    "        # plt.show()\n",
    "        path_x = path + f'/{name}/'\n",
    "        create_dir(path_x)\n",
    "        path_x = path_x + f'/{year}.png'\n",
    "        plt.savefig(path_x)\n",
    "        plt.close()"
   ],
   "metadata": {
    "collapsed": false
   }
  },
  {
   "cell_type": "code",
   "execution_count": null,
   "outputs": [],
   "source": [
    "create_dir('./销量频率直方图')\n",
    "create_dir('./销量频率直方图/单类/')\n",
    "create_dir('./销量频率直方图/品类/')\n",
    "create_dir('./销量频率直方图/单类/每日/')\n",
    "create_dir('./销量频率直方图/单类/每月/')\n",
    "create_dir('./销量频率直方图/品类/每月/')\n",
    "create_dir('./销量频率直方图/品类/每日/')\n",
    "\n",
    "single_path_daily = './销售量数据/单类/每日/'\n",
    "single_path_monthly = './销售量数据/单类/每月/'\n",
    "kind_path_daily = './销售量数据/品类/每日/'\n",
    "kind_path_monthly = './销售量数据/品类/每月/'\n",
    "src_list = [single_path_daily, single_path_monthly, kind_path_daily, kind_path_monthly]\n",
    "\n",
    "obj_SD = './销量频率直方图/单类/每日/'\n",
    "obj_SM = './销量频率直方图/单类/每月/'\n",
    "obj_KD = './销量频率直方图/品类/每日/'\n",
    "obj_KM = './销量频率直方图/品类/每月/'\n",
    "obj_list = [obj_SD, obj_SM, obj_KD, obj_KM]\n",
    "\n",
    "for k in Kinds:\n",
    "    for p in obj_list:\n",
    "        create_dir(p+k)\n",
    "\n",
    "for i in range(4):\n",
    "    src = src_list[i]\n",
    "    for k in Kinds:\n",
    "        fold = os.path.join(src, k)\n",
    "        if os.path.exists(fold):\n",
    "            fold = fold\n",
    "        else: fold = src\n",
    "        f_list = os.listdir(fold)\n",
    "        for f in f_list:\n",
    "            df_ = pd.read_csv(os.path.join(fold, f))\n",
    "            window_size, lap = 4, 2\n",
    "            a, b = convert(df_, window_size, lap)\n",
    "            path = obj_list[i]+k+'/'\n",
    "            name = ''.join(f.split('.')[0])[6:]\n",
    "            myPlot(b, path, k, name)\n",
    "            print(f'{name} complete')"
   ],
   "metadata": {
    "collapsed": false,
    "pycharm": {
     "is_executing": true
    }
   }
  },
  {
   "cell_type": "markdown",
   "source": [],
   "metadata": {
    "collapsed": false
   }
  }
 ],
 "metadata": {
  "kernelspec": {
   "display_name": "Python 3",
   "language": "python",
   "name": "python3"
  },
  "language_info": {
   "codemirror_mode": {
    "name": "ipython",
    "version": 2
   },
   "file_extension": ".py",
   "mimetype": "text/x-python",
   "name": "python",
   "nbconvert_exporter": "python",
   "pygments_lexer": "ipython2",
   "version": "2.7.6"
  }
 },
 "nbformat": 4,
 "nbformat_minor": 0
}
